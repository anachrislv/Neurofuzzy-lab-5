{
 "cells": [
  {
   "cell_type": "code",
   "execution_count": 1,
   "id": "7e8a0ac1",
   "metadata": {},
   "outputs": [],
   "source": [
    "import random"
   ]
  },
  {
   "cell_type": "code",
   "execution_count": 16,
   "id": "dd3b5976",
   "metadata": {},
   "outputs": [
    {
     "name": "stdout",
     "output_type": "stream",
     "text": [
      "Starting position: 1, Path: [1, 1, 1, 1, 1, 1, 1, 1, 1, 1, 1]\n",
      "Starting position: 2, Path: [2, 1, 1, 1, 1, 1, 1, 1, 1, 1, 1]\n",
      "Starting position: 3, Path: [3, 2, 1, 1, 1, 1, 1, 1, 1, 1, 1]\n",
      "Starting position: 4, Path: [4, 3, 3, 2, 2, 2, 2, 1, 1, 1, 1]\n",
      "Starting position: 5, Path: [5, 6, 6, 6, 6, 7, 8, 9, 8, 9, 9]\n",
      "Starting position: 6, Path: [6, 7, 7, 7, 7, 8, 8, 9, 9, 8, 9]\n",
      "Starting position: 7, Path: [7, 8, 8, 9, 8, 8, 8, 9, 8, 9, 8]\n",
      "Starting position: 8, Path: [8, 8, 8, 9, 8, 8, 9, 9, 9, 8, 9]\n",
      "Starting position: 9, Path: [9, 9, 8, 8, 9, 9, 9, 9, 9, 9, 8]\n",
      "Starting position: 10, Path: [10, 10, 10, 10, 9, 8, 9, 8, 9, 8, 9]\n"
     ]
    }
   ],
   "source": [
    "import random\n",
    "\n",
    "def simulate_path(initial_position, action_sequence, total_steps=10):\n",
    "    \"\"\"\n",
    "    Simulate the path of a system given an initial position and an action sequence.\n",
    "    \n",
    "    Parameters:\n",
    "    - initial_position: The starting position of the system.\n",
    "    - action_sequence: A sequence indicating the action to take at each position.\n",
    "    - total_steps: The total number of steps to simulate.\n",
    "    \n",
    "    Returns:\n",
    "    - A list of positions representing the path of the system.\n",
    "    \"\"\"\n",
    "    position = initial_position\n",
    "    path_history = [position]  # Initialize path history with the initial position\n",
    "    \n",
    "    for _ in range(total_steps):\n",
    "        current_action = action_sequence[position - 1]  # Get action based on current position\n",
    "        if random.random() < 0.5:  # Check random factor once\n",
    "            # Determine new position based on action and boundaries\n",
    "            if current_action == 1 and position < 10:  # Move forward\n",
    "                position += 1\n",
    "            elif current_action == -1 and position > 1:  # Move backward\n",
    "                position -= 1\n",
    "        \n",
    "        path_history.append(position)\n",
    "    \n",
    "    return path_history\n",
    "\n",
    "# Example action sequence (for demonstration purposes)\n",
    "example_actions = [-1, -1, -1, -1, 1, 1, 1, 1, -1, -1]\n",
    "\n",
    "# Simulate paths for starting positions 1 through 10\n",
    "resulting_paths = {start_pos: simulate_path(initial_position=start_pos, action_sequence=example_actions, total_steps=10)\n",
    "                   for start_pos in range(1, 11)}\n",
    "\n",
    "# Print the resulting paths\n",
    "for start_pos, path in resulting_paths.items():\n",
    "    print(f\"Starting position: {start_pos}, Path: {path}\")\n"
   ]
  },
  {
   "cell_type": "code",
   "execution_count": 17,
   "id": "49723684",
   "metadata": {},
   "outputs": [
    {
     "name": "stdout",
     "output_type": "stream",
     "text": [
      "[[-10.         -11.        ]\n",
      " [-10.         -12.9       ]\n",
      " [-11.         -15.48441356]\n",
      " [-12.89999391 -13.15975991]\n",
      " [-12.26200088  -9.63684206]\n",
      " [-13.63093391  -6.26315789]\n",
      " [ -9.63684211  -4.73684211]\n",
      " [ -6.26315789  -5.26315789]\n",
      " [ -4.73684211  -6.73684211]\n",
      " [ -5.26315789  -6.73684211]]\n"
     ]
    }
   ],
   "source": [
    "import numpy as np\n",
    "\n",
    "def train_q_learning(num_states=10, num_actions=2, max_episodes=1000, lr=0.1, discount=0.9, explore_prob=0.1):\n",
    "    \"\"\"\n",
    "    Train the Q-learning algorithm to find the optimal policy.\n",
    "    \n",
    "    Parameters:\n",
    "    - num_states: Total number of states.\n",
    "    - num_actions: Total number of actions available.\n",
    "    - max_episodes: Number of episodes to train the agent.\n",
    "    - lr: Learning rate for updating Q-values.\n",
    "    - discount: Discount factor for future rewards.\n",
    "    - explore_prob: Probability of taking a random action (exploration).\n",
    "    \n",
    "    Returns:\n",
    "    - Q_table: The Q-values learned for each state-action pair.\n",
    "    \"\"\"\n",
    "    # Initialize the Q-table with zeros\n",
    "    Q_table = np.zeros((num_states, num_actions))\n",
    "    \n",
    "    # Define the reward structure based on a hypothetical cost function\n",
    "    reward_scheme = -np.array([1, 2, 3, 4, 5, 4, 2, 0, 1, 2])\n",
    "    \n",
    "    for episode in range(max_episodes):\n",
    "        # Start from a random initial state for each episode\n",
    "        current_state = np.random.randint(0, num_states)\n",
    "        \n",
    "        while True:\n",
    "            # Implement epsilon-greedy policy for action selection\n",
    "            if np.random.rand() < explore_prob:\n",
    "                chosen_action = np.random.choice(num_actions)  # Random action (exploration)\n",
    "            else:\n",
    "                chosen_action = np.argmax(Q_table[current_state])  # Best action (exploitation)\n",
    "            \n",
    "            # Map the action to the corresponding state transition\n",
    "            transition = 1 if chosen_action == 1 else -1\n",
    "            \n",
    "            # Calculate the next state and ensure it remains within valid bounds\n",
    "            next_state = current_state + transition\n",
    "            next_state = np.clip(next_state, 0, num_states - 1)\n",
    "            \n",
    "            # Retrieve the reward for the next state\n",
    "            reward = reward_scheme[next_state]\n",
    "            \n",
    "            # Update the Q-value using the Q-learning formula\n",
    "            best_future_q = np.max(Q_table[next_state])\n",
    "            Q_table[current_state, chosen_action] += lr * (reward + discount * best_future_q - Q_table[current_state, chosen_action])\n",
    "            \n",
    "            # Move to the next state\n",
    "            current_state = next_state\n",
    "            \n",
    "            # Introduce a small chance to terminate the episode early\n",
    "            if np.random.rand() < 0.001:\n",
    "                break\n",
    "                \n",
    "    return Q_table\n",
    "\n",
    "# Execute Q-learning training process\n",
    "learned_Q_values = train_q_learning()\n",
    "\n",
    "# Display the final Q-values for inspection\n",
    "print(learned_Q_values)\n"
   ]
  }
 ],
 "metadata": {
  "kernelspec": {
   "display_name": "Python 3 (ipykernel)",
   "language": "python",
   "name": "python3"
  },
  "language_info": {
   "codemirror_mode": {
    "name": "ipython",
    "version": 3
   },
   "file_extension": ".py",
   "mimetype": "text/x-python",
   "name": "python",
   "nbconvert_exporter": "python",
   "pygments_lexer": "ipython3",
   "version": "3.7.16"
  }
 },
 "nbformat": 4,
 "nbformat_minor": 5
}
